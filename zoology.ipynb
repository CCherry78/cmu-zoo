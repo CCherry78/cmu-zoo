{
 "cells": [
  {
   "cell_type": "markdown",
   "id": "f9472d8a-3194-4f57-b4f0-bc749a04284b",
   "metadata": {},
   "source": [
    "## Let's analyze animals from a GitHub repository"
   ]
  },
  {
   "cell_type": "markdown",
   "id": "602357d2-9c4f-419a-87b1-163ab9b9d5db",
   "metadata": {},
   "source": [
    "First, define functions that read the data"
   ]
  },
  {
   "cell_type": "code",
   "execution_count": 6,
   "id": "f1793fcb-9ba1-4e68-beb4-0e3e12dc7658",
   "metadata": {},
   "outputs": [],
   "source": [
    "import pandas as pd\n",
    "import yaml\n",
    "import glob\n",
    "\n",
    "# Function to read frontmatter from a Markdown file\n",
    "def read_frontmatter(markdown_file):\n",
    "    with open(markdown_file, 'r') as file:\n",
    "        content = file.read()\n",
    "\n",
    "    # Split the content into frontmatter and body\n",
    "    frontmatter, body = content.split('---', 2)[1:]\n",
    "    return frontmatter\n",
    "\n",
    "# Function to convert frontmatter (YAML) into a Pandas DataFrame\n",
    "def yaml_to_dataframe(yaml_str):\n",
    "    frontmatter_data = yaml.load(yaml_str, Loader=yaml.FullLoader)\n",
    "    return pd.DataFrame([frontmatter_data])"
   ]
  },
  {
   "cell_type": "markdown",
   "id": "82194e49-6ece-4b5a-a36c-f23a0b559149",
   "metadata": {},
   "source": [
    "Read the data into a dataframe"
   ]
  },
  {
   "cell_type": "code",
   "execution_count": 7,
   "id": "78de4163-038a-4a6e-bb40-7799568c21df",
   "metadata": {},
   "outputs": [],
   "source": [
    "dfs = []\n",
    "\n",
    "for animal in glob.glob('./animals/*.md'):\n",
    "    frontmatter_str = read_frontmatter(animal)\n",
    "    df = yaml_to_dataframe(frontmatter_str)\n",
    "    dfs.append(df)\n",
    "    \n",
    "zoo_df = pd.concat(dfs, ignore_index=True)"
   ]
  },
  {
   "cell_type": "code",
   "execution_count": 8,
   "id": "1ccfb8fc-7ff3-4a09-82db-a4dea3ec66e6",
   "metadata": {},
   "outputs": [
    {
     "data": {
      "text/html": [
       "<div>\n",
       "<style scoped>\n",
       "    .dataframe tbody tr th:only-of-type {\n",
       "        vertical-align: middle;\n",
       "    }\n",
       "\n",
       "    .dataframe tbody tr th {\n",
       "        vertical-align: top;\n",
       "    }\n",
       "\n",
       "    .dataframe thead th {\n",
       "        text-align: right;\n",
       "    }\n",
       "</style>\n",
       "<table border=\"1\" class=\"dataframe\">\n",
       "  <thead>\n",
       "    <tr style=\"text-align: right;\">\n",
       "      <th></th>\n",
       "      <th>Name</th>\n",
       "      <th>Scientific name</th>\n",
       "      <th>Class</th>\n",
       "      <th>Life Span</th>\n",
       "      <th>Fun Fact</th>\n",
       "    </tr>\n",
       "  </thead>\n",
       "  <tbody>\n",
       "    <tr>\n",
       "      <th>0</th>\n",
       "      <td>Chameleon</td>\n",
       "      <td>Chamaeleonidae</td>\n",
       "      <td>Reptilia</td>\n",
       "      <td>5</td>\n",
       "      <td>Chameleons have prehensile tails, which act as...</td>\n",
       "    </tr>\n",
       "    <tr>\n",
       "      <th>1</th>\n",
       "      <td>Humpback Whale</td>\n",
       "      <td>Megaptera novaeangliae</td>\n",
       "      <td>Mammalia</td>\n",
       "      <td>45</td>\n",
       "      <td>Humpback whales mainly eat krill</td>\n",
       "    </tr>\n",
       "    <tr>\n",
       "      <th>2</th>\n",
       "      <td>Roadrunner</td>\n",
       "      <td>Geococcyx</td>\n",
       "      <td>Aves</td>\n",
       "      <td>7</td>\n",
       "      <td>Roadrunners are omnivores, and they will even ...</td>\n",
       "    </tr>\n",
       "  </tbody>\n",
       "</table>\n",
       "</div>"
      ],
      "text/plain": [
       "             Name         Scientific name     Class  Life Span  \\\n",
       "0       Chameleon          Chamaeleonidae  Reptilia          5   \n",
       "1  Humpback Whale  Megaptera novaeangliae  Mammalia         45   \n",
       "2      Roadrunner               Geococcyx      Aves          7   \n",
       "\n",
       "                                            Fun Fact  \n",
       "0  Chameleons have prehensile tails, which act as...  \n",
       "1                   Humpback whales mainly eat krill  \n",
       "2  Roadrunners are omnivores, and they will even ...  "
      ]
     },
     "execution_count": 8,
     "metadata": {},
     "output_type": "execute_result"
    }
   ],
   "source": [
    "zoo_df"
   ]
  },
  {
   "cell_type": "markdown",
   "id": "58eb40e1-0ba1-4bb3-9fc1-e4ed422e71a3",
   "metadata": {},
   "source": [
    "### Distribution of animal life spans"
   ]
  },
  {
   "cell_type": "code",
   "execution_count": 9,
   "id": "3144e3d2-dd14-46a2-abee-df5d6ade477d",
   "metadata": {},
   "outputs": [
    {
     "data": {
      "text/plain": [
       "<AxesSubplot:ylabel='Frequency'>"
      ]
     },
     "execution_count": 9,
     "metadata": {},
     "output_type": "execute_result"
    },
    {
     "data": {
      "image/png": "[encoded data removed]",
      "text/plain": [
       "<Figure size 432x288 with 1 Axes>"
      ]
     },
     "metadata": {
      "needs_background": "light"
     },
     "output_type": "display_data"
    }
   ],
   "source": [
    "zoo_df.plot(kind='hist')"
   ]
  },
  {
   "cell_type": "markdown",
   "id": "cef15d30-75be-4f49-90c6-fd353a6864bd",
   "metadata": {},
   "source": [
    "### Listing all the fun facts"
   ]
  },
  {
   "cell_type": "code",
   "execution_count": 10,
   "id": "6c3103d4-34f4-464e-a390-060859118089",
   "metadata": {},
   "outputs": [
    {
     "name": "stdout",
     "output_type": "stream",
     "text": [
      "Here is a fun fact about the Chameleon:\n",
      "\"Chameleons have prehensile tails, which act as fifth limbs helping them climb and rest on tree branches\"\n",
      "    \n",
      "Here is a fun fact about the Humpback Whale:\n",
      "\"Humpback whales mainly eat krill\"\n",
      "    \n",
      "Here is a fun fact about the Roadrunner:\n",
      "\"Roadrunners are omnivores, and they will even eat venomous snakes.\"\n",
      "    \n"
     ]
    }
   ],
   "source": [
    "for i, row in zoo_df.iterrows():\n",
    "    print(f'''Here is a fun fact about the {row['Name']}:''')\n",
    "    print(f'''\"{row['Fun Fact']}\"\n",
    "    ''')"
   ]
  },
  {
   "cell_type": "code",
   "execution_count": null,
   "id": "d958291c-75ea-4aa6-8afc-68909bc6e894",
   "metadata": {},
   "outputs": [],
   "source": []
  }
 ],
 "metadata": {
  "kernelspec": {
   "display_name": "Python 3 (ipykernel)",
   "language": "python",
   "name": "python3"
  },
  "language_info": {
   "codemirror_mode": {
    "name": "ipython",
    "version": 3
   },
   "file_extension": ".py",
   "mimetype": "text/x-python",
   "name": "python",
   "nbconvert_exporter": "python",
   "pygments_lexer": "ipython3",
   "version": "3.9.12"
  }
 },
 "nbformat": 4,
 "nbformat_minor": 5
}
